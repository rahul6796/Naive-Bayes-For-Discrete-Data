{
 "cells": [
  {
   "cell_type": "markdown",
   "metadata": {},
   "source": [
    "# Binary Classification Of Naive Bayes For Discrete Random Variables."
   ]
  },
  {
   "cell_type": "markdown",
   "metadata": {},
   "source": [
    "# Content"
   ]
  },
  {
   "cell_type": "markdown",
   "metadata": {},
   "source": [
    "$1$. Naive Bayes Classifier."
   ]
  },
  {
   "cell_type": "markdown",
   "metadata": {},
   "source": [
    "$2$.Bayes Rule."
   ]
  },
  {
   "cell_type": "markdown",
   "metadata": {},
   "source": [
    "$3$. Smoothing Technique."
   ]
  },
  {
   "cell_type": "markdown",
   "metadata": {},
   "source": [
    "# 1. Naive Bayes Classifier."
   ]
  },
  {
   "cell_type": "markdown",
   "metadata": {},
   "source": [
    "In this section we introduced the Multinomial Naive Bayes Classifier."
   ]
  },
  {
   "cell_type": "markdown",
   "metadata": {},
   "source": [
    "let's take an example."
   ]
  },
  {
   "cell_type": "code",
   "execution_count": 1,
   "metadata": {},
   "outputs": [],
   "source": [
    "import pandas as pd"
   ]
  },
  {
   "cell_type": "code",
   "execution_count": 2,
   "metadata": {},
   "outputs": [],
   "source": [
    "data = pd.read_csv('mushrooms.csv')"
   ]
  },
  {
   "cell_type": "code",
   "execution_count": 3,
   "metadata": {},
   "outputs": [
    {
     "data": {
      "text/html": [
       "<div>\n",
       "<style scoped>\n",
       "    .dataframe tbody tr th:only-of-type {\n",
       "        vertical-align: middle;\n",
       "    }\n",
       "\n",
       "    .dataframe tbody tr th {\n",
       "        vertical-align: top;\n",
       "    }\n",
       "\n",
       "    .dataframe thead th {\n",
       "        text-align: right;\n",
       "    }\n",
       "</style>\n",
       "<table border=\"1\" class=\"dataframe\">\n",
       "  <thead>\n",
       "    <tr style=\"text-align: right;\">\n",
       "      <th></th>\n",
       "      <th>class</th>\n",
       "      <th>cap-shape</th>\n",
       "      <th>cap-surface</th>\n",
       "      <th>cap-color</th>\n",
       "      <th>bruises</th>\n",
       "      <th>odor</th>\n",
       "      <th>gill-attachment</th>\n",
       "      <th>gill-spacing</th>\n",
       "      <th>gill-size</th>\n",
       "      <th>gill-color</th>\n",
       "      <th>...</th>\n",
       "      <th>stalk-surface-below-ring</th>\n",
       "      <th>stalk-color-above-ring</th>\n",
       "      <th>stalk-color-below-ring</th>\n",
       "      <th>veil-type</th>\n",
       "      <th>veil-color</th>\n",
       "      <th>ring-number</th>\n",
       "      <th>ring-type</th>\n",
       "      <th>spore-print-color</th>\n",
       "      <th>population</th>\n",
       "      <th>habitat</th>\n",
       "    </tr>\n",
       "  </thead>\n",
       "  <tbody>\n",
       "    <tr>\n",
       "      <th>0</th>\n",
       "      <td>p</td>\n",
       "      <td>x</td>\n",
       "      <td>s</td>\n",
       "      <td>n</td>\n",
       "      <td>t</td>\n",
       "      <td>p</td>\n",
       "      <td>f</td>\n",
       "      <td>c</td>\n",
       "      <td>n</td>\n",
       "      <td>k</td>\n",
       "      <td>...</td>\n",
       "      <td>s</td>\n",
       "      <td>w</td>\n",
       "      <td>w</td>\n",
       "      <td>p</td>\n",
       "      <td>w</td>\n",
       "      <td>o</td>\n",
       "      <td>p</td>\n",
       "      <td>k</td>\n",
       "      <td>s</td>\n",
       "      <td>u</td>\n",
       "    </tr>\n",
       "    <tr>\n",
       "      <th>1</th>\n",
       "      <td>e</td>\n",
       "      <td>x</td>\n",
       "      <td>s</td>\n",
       "      <td>y</td>\n",
       "      <td>t</td>\n",
       "      <td>a</td>\n",
       "      <td>f</td>\n",
       "      <td>c</td>\n",
       "      <td>b</td>\n",
       "      <td>k</td>\n",
       "      <td>...</td>\n",
       "      <td>s</td>\n",
       "      <td>w</td>\n",
       "      <td>w</td>\n",
       "      <td>p</td>\n",
       "      <td>w</td>\n",
       "      <td>o</td>\n",
       "      <td>p</td>\n",
       "      <td>n</td>\n",
       "      <td>n</td>\n",
       "      <td>g</td>\n",
       "    </tr>\n",
       "    <tr>\n",
       "      <th>2</th>\n",
       "      <td>e</td>\n",
       "      <td>b</td>\n",
       "      <td>s</td>\n",
       "      <td>w</td>\n",
       "      <td>t</td>\n",
       "      <td>l</td>\n",
       "      <td>f</td>\n",
       "      <td>c</td>\n",
       "      <td>b</td>\n",
       "      <td>n</td>\n",
       "      <td>...</td>\n",
       "      <td>s</td>\n",
       "      <td>w</td>\n",
       "      <td>w</td>\n",
       "      <td>p</td>\n",
       "      <td>w</td>\n",
       "      <td>o</td>\n",
       "      <td>p</td>\n",
       "      <td>n</td>\n",
       "      <td>n</td>\n",
       "      <td>m</td>\n",
       "    </tr>\n",
       "    <tr>\n",
       "      <th>3</th>\n",
       "      <td>p</td>\n",
       "      <td>x</td>\n",
       "      <td>y</td>\n",
       "      <td>w</td>\n",
       "      <td>t</td>\n",
       "      <td>p</td>\n",
       "      <td>f</td>\n",
       "      <td>c</td>\n",
       "      <td>n</td>\n",
       "      <td>n</td>\n",
       "      <td>...</td>\n",
       "      <td>s</td>\n",
       "      <td>w</td>\n",
       "      <td>w</td>\n",
       "      <td>p</td>\n",
       "      <td>w</td>\n",
       "      <td>o</td>\n",
       "      <td>p</td>\n",
       "      <td>k</td>\n",
       "      <td>s</td>\n",
       "      <td>u</td>\n",
       "    </tr>\n",
       "    <tr>\n",
       "      <th>4</th>\n",
       "      <td>e</td>\n",
       "      <td>x</td>\n",
       "      <td>s</td>\n",
       "      <td>g</td>\n",
       "      <td>f</td>\n",
       "      <td>n</td>\n",
       "      <td>f</td>\n",
       "      <td>w</td>\n",
       "      <td>b</td>\n",
       "      <td>k</td>\n",
       "      <td>...</td>\n",
       "      <td>s</td>\n",
       "      <td>w</td>\n",
       "      <td>w</td>\n",
       "      <td>p</td>\n",
       "      <td>w</td>\n",
       "      <td>o</td>\n",
       "      <td>e</td>\n",
       "      <td>n</td>\n",
       "      <td>a</td>\n",
       "      <td>g</td>\n",
       "    </tr>\n",
       "  </tbody>\n",
       "</table>\n",
       "<p>5 rows × 23 columns</p>\n",
       "</div>"
      ],
      "text/plain": [
       "  class cap-shape cap-surface cap-color bruises odor gill-attachment  \\\n",
       "0     p         x           s         n       t    p               f   \n",
       "1     e         x           s         y       t    a               f   \n",
       "2     e         b           s         w       t    l               f   \n",
       "3     p         x           y         w       t    p               f   \n",
       "4     e         x           s         g       f    n               f   \n",
       "\n",
       "  gill-spacing gill-size gill-color  ... stalk-surface-below-ring  \\\n",
       "0            c         n          k  ...                        s   \n",
       "1            c         b          k  ...                        s   \n",
       "2            c         b          n  ...                        s   \n",
       "3            c         n          n  ...                        s   \n",
       "4            w         b          k  ...                        s   \n",
       "\n",
       "  stalk-color-above-ring stalk-color-below-ring veil-type veil-color  \\\n",
       "0                      w                      w         p          w   \n",
       "1                      w                      w         p          w   \n",
       "2                      w                      w         p          w   \n",
       "3                      w                      w         p          w   \n",
       "4                      w                      w         p          w   \n",
       "\n",
       "  ring-number ring-type spore-print-color population habitat  \n",
       "0           o         p                 k          s       u  \n",
       "1           o         p                 n          n       g  \n",
       "2           o         p                 n          n       m  \n",
       "3           o         p                 k          s       u  \n",
       "4           o         e                 n          a       g  \n",
       "\n",
       "[5 rows x 23 columns]"
      ]
     },
     "execution_count": 3,
     "metadata": {},
     "output_type": "execute_result"
    }
   ],
   "source": [
    "data.head()"
   ]
  },
  {
   "cell_type": "markdown",
   "metadata": {},
   "source": [
    "now take on column from dataset and see how many discrete random variables are present."
   ]
  },
  {
   "cell_type": "code",
   "execution_count": 4,
   "metadata": {},
   "outputs": [
    {
     "data": {
      "text/plain": [
       "array(['x', 'b', 's', 'f', 'k', 'c'], dtype=object)"
      ]
     },
     "execution_count": 4,
     "metadata": {},
     "output_type": "execute_result"
    }
   ],
   "source": [
    "data['cap-shape'].unique()"
   ]
  },
  {
   "cell_type": "markdown",
   "metadata": {},
   "source": [
    "so you can see that there is $6$ different random varibels in this feture column."
   ]
  },
  {
   "cell_type": "markdown",
   "metadata": {},
   "source": [
    "now what we doing here through this bayes classifier we try to find out  probabilty of individual random variabels belong to this given classes."
   ]
  },
  {
   "cell_type": "markdown",
   "metadata": {},
   "source": [
    "for calculating this probability we are using the Bayes Rule."
   ]
  },
  {
   "cell_type": "markdown",
   "metadata": {},
   "source": [
    "# 2. Bayes Rule."
   ]
  },
  {
   "cell_type": "markdown",
   "metadata": {},
   "source": [
    "This is bayes rule.\n",
    "\\begin{equation}\n",
    "P(A|B) = \\frac{P(B|A)\\cdot {P(A)}}{P(B)}\n",
    "\\end{equation}"
   ]
  },
  {
   "cell_type": "markdown",
   "metadata": {},
   "source": [
    "in this bayes rule having some various probability let's explain them."
   ]
  },
  {
   "cell_type": "markdown",
   "metadata": {},
   "source": [
    "$1$.left hand side this probability is called.\n",
    "\\begin{equation}\n",
    "P(A|B)\n",
    "\\end{equation}\n",
    "Posterior Probability."
   ]
  },
  {
   "cell_type": "markdown",
   "metadata": {},
   "source": [
    "$2$. right hand side this probability is called.\n",
    "\\begin{equation}\n",
    "P(B|A)\n",
    "\\end{equation}\n",
    "Likelihood Probability."
   ]
  },
  {
   "cell_type": "markdown",
   "metadata": {},
   "source": [
    "$3$.right hand side this probability $P(A)$ and $P(B)$ is called Prior Probability."
   ]
  },
  {
   "cell_type": "markdown",
   "metadata": {},
   "source": [
    "Let's explain each and every things with example."
   ]
  },
  {
   "cell_type": "markdown",
   "metadata": {},
   "source": [
    "Suppose we have fetures column of given above dataset that name is $'cap-shape'$."
   ]
  },
  {
   "cell_type": "code",
   "execution_count": 5,
   "metadata": {},
   "outputs": [
    {
     "data": {
      "text/plain": [
       "array(['p', 'e'], dtype=object)"
      ]
     },
     "execution_count": 5,
     "metadata": {},
     "output_type": "execute_result"
    }
   ],
   "source": [
    "data['class'].unique()"
   ]
  },
  {
   "cell_type": "markdown",
   "metadata": {},
   "source": [
    "and having the class name $'p'$ and $'e'$."
   ]
  },
  {
   "cell_type": "markdown",
   "metadata": {},
   "source": [
    "lets put all things into bayes rule."
   ]
  },
  {
   "cell_type": "markdown",
   "metadata": {},
   "source": [
    "$A$ is your class name $'e'$ and $'p'$."
   ]
  },
  {
   "cell_type": "markdown",
   "metadata": {},
   "source": [
    "$B$ is your features column name thai is $['cap-shape','cap-surface','cap-color' etc.....]$"
   ]
  },
  {
   "cell_type": "markdown",
   "metadata": {},
   "source": [
    "how Bayes Rule look's like for this given dataset."
   ]
  },
  {
   "cell_type": "markdown",
   "metadata": {},
   "source": [
    "Now we are considering the only one column for understanding the concept behind the naive bayes for discete random variabels."
   ]
  },
  {
   "cell_type": "markdown",
   "metadata": {},
   "source": [
    "This is bayes rule.\n",
    "\\begin{equation}\n",
    "P(A|B) = \\frac{P(B|A)\\cdot {P(A)}}{P(B|A)\\cdot {P(A)} + P(B|A^\\complement)\\cdot {P(A^\\complement)}}\n",
    "\\end{equation}"
   ]
  },
  {
   "cell_type": "markdown",
   "metadata": {},
   "source": [
    "\\begin{equation}\n",
    "P(A={'p'}|B={'cap-shape'}) = \\frac{P(B={'cap-shape'}|A={'p'})\\cdot{P(A='p')}}{P(B={'cap-shape'}|A={'p'})\\cdot {P(A={'p'})}+ P(B={'cap-shape'}|A={'e'})\\cdot{P(A={'e'})}}\n",
    "\\end{equation}"
   ]
  },
  {
   "cell_type": "markdown",
   "metadata": {},
   "source": [
    "now we are taking values on the features column."
   ]
  },
  {
   "cell_type": "markdown",
   "metadata": {},
   "source": [
    "\\begin{equation}\n",
    "P(A='p'|B=['x','b','s','f','c']) = \\frac{P(B=['x','b','s','f','c']|A='p')\\cdot {P(A='p')}}{P(B=['x','b','s','f','c']|A={'p'})\\cdot {P(A={'p'})}+ P(B=['x','b','s','f','c']|A={'e'})\\cdot{P(A={'e'})}}\n",
    "\\end{equation}"
   ]
  },
  {
   "cell_type": "markdown",
   "metadata": {},
   "source": [
    "now in Naive Bayes Classifier we assume that the given random variables are                           IID(Independent and Identically Distributed)"
   ]
  },
  {
   "cell_type": "markdown",
   "metadata": {},
   "source": [
    "so our posterior probability look's like..."
   ]
  },
  {
   "cell_type": "markdown",
   "metadata": {},
   "source": [
    "\\begin{equation}\n",
    "P(A='p'|B=['x','b','s','f','c']) = P(B='x'|A='p')\\cdot {P(B='b'|A='p')}\\cdot {P(B='s'|A='p')}\\cdot {P(B='f'|A='p')}\\cdot {P(B='c'|A='p')}\\cdot{P(A='p')}\n",
    "\\end{equation}"
   ]
  },
  {
   "cell_type": "markdown",
   "metadata": {},
   "source": [
    "here we are not considering the denominator probability because is same over data."
   ]
  },
  {
   "cell_type": "markdown",
   "metadata": {},
   "source": [
    "and this above steps we are doing for all features column in dataset."
   ]
  },
  {
   "cell_type": "markdown",
   "metadata": {},
   "source": [
    "and we calculating the Likelihood Probability for each and every features column in given dataset. through as expression which are given."
   ]
  },
  {
   "cell_type": "markdown",
   "metadata": {},
   "source": [
    "Now one things i also want to mention here $P(B='x'|A='p')$ we are taking the frequency of $'x'$ on condition $'p'$ and ......frequency of $'c'$ on condition  $'p'$ so on."
   ]
  },
  {
   "cell_type": "markdown",
   "metadata": {},
   "source": [
    "now above Posterior probability can also be written in sort form."
   ]
  },
  {
   "cell_type": "markdown",
   "metadata": {},
   "source": [
    "\\begin{equation}\n",
    "P(A|B) = \\prod_{i=1}^nP({b}_i|A=c)\n",
    "\\end{equation}"
   ]
  },
  {
   "cell_type": "markdown",
   "metadata": {},
   "source": [
    "where as ${b}_i$ is the each values of each columns containing of the dataset. and $c\\in {['p','e']}$"
   ]
  },
  {
   "cell_type": "markdown",
   "metadata": {},
   "source": [
    "# Training the Naive Bayes Classifier."
   ]
  },
  {
   "cell_type": "markdown",
   "metadata": {},
   "source": [
    "for training we are dividing the data in training-set , cross-validation-set and testing-set"
   ]
  },
  {
   "cell_type": "markdown",
   "metadata": {},
   "source": [
    "let's start..."
   ]
  },
  {
   "cell_type": "code",
   "execution_count": 6,
   "metadata": {},
   "outputs": [],
   "source": [
    "training_data=data.iloc[0:int(len(data)*0.75)]"
   ]
  },
  {
   "cell_type": "code",
   "execution_count": 7,
   "metadata": {},
   "outputs": [
    {
     "data": {
      "text/html": [
       "<div>\n",
       "<style scoped>\n",
       "    .dataframe tbody tr th:only-of-type {\n",
       "        vertical-align: middle;\n",
       "    }\n",
       "\n",
       "    .dataframe tbody tr th {\n",
       "        vertical-align: top;\n",
       "    }\n",
       "\n",
       "    .dataframe thead th {\n",
       "        text-align: right;\n",
       "    }\n",
       "</style>\n",
       "<table border=\"1\" class=\"dataframe\">\n",
       "  <thead>\n",
       "    <tr style=\"text-align: right;\">\n",
       "      <th></th>\n",
       "      <th>class</th>\n",
       "      <th>cap-shape</th>\n",
       "      <th>cap-surface</th>\n",
       "      <th>cap-color</th>\n",
       "      <th>bruises</th>\n",
       "      <th>odor</th>\n",
       "      <th>gill-attachment</th>\n",
       "      <th>gill-spacing</th>\n",
       "      <th>gill-size</th>\n",
       "      <th>gill-color</th>\n",
       "      <th>...</th>\n",
       "      <th>stalk-surface-below-ring</th>\n",
       "      <th>stalk-color-above-ring</th>\n",
       "      <th>stalk-color-below-ring</th>\n",
       "      <th>veil-type</th>\n",
       "      <th>veil-color</th>\n",
       "      <th>ring-number</th>\n",
       "      <th>ring-type</th>\n",
       "      <th>spore-print-color</th>\n",
       "      <th>population</th>\n",
       "      <th>habitat</th>\n",
       "    </tr>\n",
       "  </thead>\n",
       "  <tbody>\n",
       "    <tr>\n",
       "      <th>0</th>\n",
       "      <td>p</td>\n",
       "      <td>x</td>\n",
       "      <td>s</td>\n",
       "      <td>n</td>\n",
       "      <td>t</td>\n",
       "      <td>p</td>\n",
       "      <td>f</td>\n",
       "      <td>c</td>\n",
       "      <td>n</td>\n",
       "      <td>k</td>\n",
       "      <td>...</td>\n",
       "      <td>s</td>\n",
       "      <td>w</td>\n",
       "      <td>w</td>\n",
       "      <td>p</td>\n",
       "      <td>w</td>\n",
       "      <td>o</td>\n",
       "      <td>p</td>\n",
       "      <td>k</td>\n",
       "      <td>s</td>\n",
       "      <td>u</td>\n",
       "    </tr>\n",
       "    <tr>\n",
       "      <th>1</th>\n",
       "      <td>e</td>\n",
       "      <td>x</td>\n",
       "      <td>s</td>\n",
       "      <td>y</td>\n",
       "      <td>t</td>\n",
       "      <td>a</td>\n",
       "      <td>f</td>\n",
       "      <td>c</td>\n",
       "      <td>b</td>\n",
       "      <td>k</td>\n",
       "      <td>...</td>\n",
       "      <td>s</td>\n",
       "      <td>w</td>\n",
       "      <td>w</td>\n",
       "      <td>p</td>\n",
       "      <td>w</td>\n",
       "      <td>o</td>\n",
       "      <td>p</td>\n",
       "      <td>n</td>\n",
       "      <td>n</td>\n",
       "      <td>g</td>\n",
       "    </tr>\n",
       "    <tr>\n",
       "      <th>2</th>\n",
       "      <td>e</td>\n",
       "      <td>b</td>\n",
       "      <td>s</td>\n",
       "      <td>w</td>\n",
       "      <td>t</td>\n",
       "      <td>l</td>\n",
       "      <td>f</td>\n",
       "      <td>c</td>\n",
       "      <td>b</td>\n",
       "      <td>n</td>\n",
       "      <td>...</td>\n",
       "      <td>s</td>\n",
       "      <td>w</td>\n",
       "      <td>w</td>\n",
       "      <td>p</td>\n",
       "      <td>w</td>\n",
       "      <td>o</td>\n",
       "      <td>p</td>\n",
       "      <td>n</td>\n",
       "      <td>n</td>\n",
       "      <td>m</td>\n",
       "    </tr>\n",
       "    <tr>\n",
       "      <th>3</th>\n",
       "      <td>p</td>\n",
       "      <td>x</td>\n",
       "      <td>y</td>\n",
       "      <td>w</td>\n",
       "      <td>t</td>\n",
       "      <td>p</td>\n",
       "      <td>f</td>\n",
       "      <td>c</td>\n",
       "      <td>n</td>\n",
       "      <td>n</td>\n",
       "      <td>...</td>\n",
       "      <td>s</td>\n",
       "      <td>w</td>\n",
       "      <td>w</td>\n",
       "      <td>p</td>\n",
       "      <td>w</td>\n",
       "      <td>o</td>\n",
       "      <td>p</td>\n",
       "      <td>k</td>\n",
       "      <td>s</td>\n",
       "      <td>u</td>\n",
       "    </tr>\n",
       "    <tr>\n",
       "      <th>4</th>\n",
       "      <td>e</td>\n",
       "      <td>x</td>\n",
       "      <td>s</td>\n",
       "      <td>g</td>\n",
       "      <td>f</td>\n",
       "      <td>n</td>\n",
       "      <td>f</td>\n",
       "      <td>w</td>\n",
       "      <td>b</td>\n",
       "      <td>k</td>\n",
       "      <td>...</td>\n",
       "      <td>s</td>\n",
       "      <td>w</td>\n",
       "      <td>w</td>\n",
       "      <td>p</td>\n",
       "      <td>w</td>\n",
       "      <td>o</td>\n",
       "      <td>e</td>\n",
       "      <td>n</td>\n",
       "      <td>a</td>\n",
       "      <td>g</td>\n",
       "    </tr>\n",
       "  </tbody>\n",
       "</table>\n",
       "<p>5 rows × 23 columns</p>\n",
       "</div>"
      ],
      "text/plain": [
       "  class cap-shape cap-surface cap-color bruises odor gill-attachment  \\\n",
       "0     p         x           s         n       t    p               f   \n",
       "1     e         x           s         y       t    a               f   \n",
       "2     e         b           s         w       t    l               f   \n",
       "3     p         x           y         w       t    p               f   \n",
       "4     e         x           s         g       f    n               f   \n",
       "\n",
       "  gill-spacing gill-size gill-color  ... stalk-surface-below-ring  \\\n",
       "0            c         n          k  ...                        s   \n",
       "1            c         b          k  ...                        s   \n",
       "2            c         b          n  ...                        s   \n",
       "3            c         n          n  ...                        s   \n",
       "4            w         b          k  ...                        s   \n",
       "\n",
       "  stalk-color-above-ring stalk-color-below-ring veil-type veil-color  \\\n",
       "0                      w                      w         p          w   \n",
       "1                      w                      w         p          w   \n",
       "2                      w                      w         p          w   \n",
       "3                      w                      w         p          w   \n",
       "4                      w                      w         p          w   \n",
       "\n",
       "  ring-number ring-type spore-print-color population habitat  \n",
       "0           o         p                 k          s       u  \n",
       "1           o         p                 n          n       g  \n",
       "2           o         p                 n          n       m  \n",
       "3           o         p                 k          s       u  \n",
       "4           o         e                 n          a       g  \n",
       "\n",
       "[5 rows x 23 columns]"
      ]
     },
     "execution_count": 7,
     "metadata": {},
     "output_type": "execute_result"
    }
   ],
   "source": [
    "training_data.head()"
   ]
  },
  {
   "cell_type": "code",
   "execution_count": 8,
   "metadata": {},
   "outputs": [
    {
     "data": {
      "text/plain": [
       "(6093, 23)"
      ]
     },
     "execution_count": 8,
     "metadata": {},
     "output_type": "execute_result"
    }
   ],
   "source": [
    "training_data.shape"
   ]
  },
  {
   "cell_type": "code",
   "execution_count": 9,
   "metadata": {},
   "outputs": [],
   "source": [
    "remaining_data=data.iloc[int(len(data)*0.75):]"
   ]
  },
  {
   "cell_type": "code",
   "execution_count": 10,
   "metadata": {},
   "outputs": [],
   "source": [
    "validation_data=remaining_data.iloc[0:int(len(remaining_data)*0.33)]"
   ]
  },
  {
   "cell_type": "code",
   "execution_count": 11,
   "metadata": {},
   "outputs": [
    {
     "data": {
      "text/plain": [
       "(670, 23)"
      ]
     },
     "execution_count": 11,
     "metadata": {},
     "output_type": "execute_result"
    }
   ],
   "source": [
    "validation_data.shape"
   ]
  },
  {
   "cell_type": "code",
   "execution_count": 12,
   "metadata": {},
   "outputs": [],
   "source": [
    "testing_data=remaining_data.iloc[int(len(remaining_data)*0.33):]"
   ]
  },
  {
   "cell_type": "code",
   "execution_count": 13,
   "metadata": {},
   "outputs": [
    {
     "data": {
      "text/plain": [
       "(1361, 23)"
      ]
     },
     "execution_count": 13,
     "metadata": {},
     "output_type": "execute_result"
    }
   ],
   "source": [
    "testing_data.shape"
   ]
  },
  {
   "cell_type": "markdown",
   "metadata": {},
   "source": [
    "now we divide the training_data on the basis of class."
   ]
  },
  {
   "cell_type": "code",
   "execution_count": 14,
   "metadata": {},
   "outputs": [],
   "source": [
    "p_training_data=training_data[training_data['class']=='p']"
   ]
  },
  {
   "cell_type": "code",
   "execution_count": 15,
   "metadata": {},
   "outputs": [
    {
     "data": {
      "text/plain": [
       "(2410, 23)"
      ]
     },
     "execution_count": 15,
     "metadata": {},
     "output_type": "execute_result"
    }
   ],
   "source": [
    "p_training_data.shape"
   ]
  },
  {
   "cell_type": "code",
   "execution_count": 16,
   "metadata": {},
   "outputs": [],
   "source": [
    "e_training_data=training_data[training_data['class']=='e']"
   ]
  },
  {
   "cell_type": "code",
   "execution_count": 17,
   "metadata": {},
   "outputs": [
    {
     "data": {
      "text/plain": [
       "(3683, 23)"
      ]
     },
     "execution_count": 17,
     "metadata": {},
     "output_type": "execute_result"
    }
   ],
   "source": [
    "e_training_data.shape"
   ]
  },
  {
   "cell_type": "markdown",
   "metadata": {},
   "source": [
    "let's see the each and every column in all the data-set."
   ]
  },
  {
   "cell_type": "markdown",
   "metadata": {},
   "source": [
    "$1$.training-set"
   ]
  },
  {
   "cell_type": "code",
   "execution_count": 18,
   "metadata": {},
   "outputs": [
    {
     "name": "stdout",
     "output_type": "stream",
     "text": [
      "class : ['p' 'e']\n",
      "cap-shape : ['x' 'b' 's' 'f' 'k' 'c']\n",
      "cap-surface : ['s' 'y' 'f' 'g']\n",
      "cap-color : ['n' 'y' 'w' 'g' 'e' 'p' 'b' 'u' 'c' 'r']\n",
      "bruises : ['t' 'f']\n",
      "odor : ['p' 'a' 'l' 'n' 'f' 'c' 'y' 's']\n",
      "gill-attachment : ['f' 'a']\n",
      "gill-spacing : ['c' 'w']\n",
      "gill-size : ['n' 'b']\n",
      "gill-color : ['k' 'n' 'g' 'p' 'w' 'h' 'u' 'e' 'b' 'r' 'y' 'o']\n",
      "stalk-shape : ['e' 't']\n",
      "stalk-root : ['e' 'c' 'b' 'r' '?']\n",
      "stalk-surface-above-ring : ['s' 'f' 'k']\n",
      "stalk-surface-below-ring : ['s' 'f' 'y' 'k']\n",
      "stalk-color-above-ring : ['w' 'g' 'p' 'n' 'b' 'e' 'o']\n",
      "stalk-color-below-ring : ['w' 'p' 'g' 'b' 'n' 'e' 'y' 'o']\n",
      "veil-type : ['p']\n",
      "veil-color : ['w' 'n']\n",
      "ring-number : ['o' 't']\n",
      "ring-type : ['p' 'e' 'l' 'f']\n",
      "spore-print-color : ['k' 'n' 'u' 'h' 'w' 'r']\n",
      "population : ['s' 'n' 'a' 'v' 'y' 'c']\n",
      "habitat : ['u' 'g' 'm' 'd' 'p' 'w' 'l']\n"
     ]
    }
   ],
   "source": [
    "\n",
    "unique_values = {}\n",
    "\n",
    "for column in training_data.columns:\n",
    "    \n",
    "    unique_values[column] = training_data[column].unique()\n",
    "    \n",
    "    print(column,':',unique_values[column])"
   ]
  },
  {
   "cell_type": "markdown",
   "metadata": {},
   "source": [
    "$2.$ validation-set."
   ]
  },
  {
   "cell_type": "code",
   "execution_count": 19,
   "metadata": {},
   "outputs": [
    {
     "name": "stdout",
     "output_type": "stream",
     "text": [
      "class : ['p' 'e']\n",
      "cap-shape : ['f' 'x' 'k' 'b']\n",
      "cap-surface : ['y' 's' 'f']\n",
      "cap-color : ['n' 'e' 'c' 'w' 'g']\n",
      "bruises : ['f' 't']\n",
      "odor : ['f' 'y' 's' 'n' 'm']\n",
      "gill-attachment : ['f' 'a']\n",
      "gill-spacing : ['c' 'w']\n",
      "gill-size : ['n' 'b']\n",
      "gill-color : ['b' 'w' 'g' 'p' 'o' 'n']\n",
      "stalk-shape : ['t' 'e']\n",
      "stalk-root : ['?' 'b' 'c']\n",
      "stalk-surface-above-ring : ['s' 'k']\n",
      "stalk-surface-below-ring : ['k' 's' 'y']\n",
      "stalk-color-above-ring : ['p' 'w' 'o' 'c']\n",
      "stalk-color-below-ring : ['p' 'w' 'o' 'c']\n",
      "veil-type : ['p']\n",
      "veil-color : ['w' 'o' 'n']\n",
      "ring-number : ['o' 't' 'n']\n",
      "ring-type : ['e' 'p' 'n']\n",
      "spore-print-color : ['w' 'o' 'y' 'b']\n",
      "population : ['v' 'n' 's' 'c']\n",
      "habitat : ['l' 'p' 'd' 'g']\n"
     ]
    }
   ],
   "source": [
    "unique_values = {}\n",
    "\n",
    "for column in validation_data.columns:\n",
    "    \n",
    "    unique_values[column] = validation_data[column].unique()\n",
    "    \n",
    "    print(column,':',unique_values[column])"
   ]
  },
  {
   "cell_type": "markdown",
   "metadata": {},
   "source": [
    "$3$.testinig-set."
   ]
  },
  {
   "cell_type": "code",
   "execution_count": 20,
   "metadata": {},
   "outputs": [
    {
     "name": "stdout",
     "output_type": "stream",
     "text": [
      "class : ['e' 'p']\n",
      "cap-shape : ['b' 'f' 'x' 'k' 'c']\n",
      "cap-surface : ['s' 'y' 'f']\n",
      "cap-color : ['n' 'e' 'w' 'g' 'c' 'y' 'p']\n",
      "bruises : ['f' 't']\n",
      "odor : ['n' 's' 'y' 'f' 'm']\n",
      "gill-attachment : ['a' 'f']\n",
      "gill-spacing : ['c' 'w']\n",
      "gill-size : ['b' 'n']\n",
      "gill-color : ['y' 'b' 'g' 'w' 'n' 'o' 'p']\n",
      "stalk-shape : ['e' 't']\n",
      "stalk-root : ['?' 'c' 'b']\n",
      "stalk-surface-above-ring : ['s' 'k' 'y']\n",
      "stalk-surface-below-ring : ['s' 'k' 'y']\n",
      "stalk-color-above-ring : ['o' 'w' 'p' 'c' 'y' 'n']\n",
      "stalk-color-below-ring : ['o' 'w' 'p' 'c' 'y' 'n']\n",
      "veil-type : ['p']\n",
      "veil-color : ['n' 'w' 'o' 'y']\n",
      "ring-number : ['o' 't' 'n']\n",
      "ring-type : ['p' 'e' 'n']\n",
      "spore-print-color : ['o' 'w' 'y' 'n' 'b']\n",
      "population : ['c' 'v' 'n' 's' 'y']\n",
      "habitat : ['l' 'p' 'd' 'g']\n"
     ]
    }
   ],
   "source": [
    "unique_values={}\n",
    "\n",
    "for column in testing_data.columns:\n",
    "    \n",
    "    unique_values[column] = testing_data[column].unique()\n",
    "    \n",
    "    print(column,':',unique_values[column])"
   ]
  },
  {
   "cell_type": "markdown",
   "metadata": {},
   "source": [
    "$4$.p-training_set. "
   ]
  },
  {
   "cell_type": "code",
   "execution_count": 21,
   "metadata": {},
   "outputs": [
    {
     "name": "stdout",
     "output_type": "stream",
     "text": [
      "class : ['p']\n",
      "cap-shape : ['x' 'f' 'b' 'k' 'c']\n",
      "cap-surface : ['s' 'y' 'f' 'g']\n",
      "cap-color : ['n' 'w' 'g' 'p' 'y' 'e' 'b']\n",
      "bruises : ['t' 'f']\n",
      "odor : ['p' 'f' 'c' 'y' 'n' 's']\n",
      "gill-attachment : ['f']\n",
      "gill-spacing : ['c' 'w']\n",
      "gill-size : ['n' 'b']\n",
      "gill-color : ['k' 'n' 'p' 'w' 'h' 'g' 'u' 'b' 'r']\n",
      "stalk-shape : ['e' 't']\n",
      "stalk-root : ['e' 'b' '?']\n",
      "stalk-surface-above-ring : ['s' 'k' 'f']\n",
      "stalk-surface-below-ring : ['s' 'k' 'f' 'y']\n",
      "stalk-color-above-ring : ['w' 'n' 'b' 'p']\n",
      "stalk-color-below-ring : ['w' 'b' 'p' 'n' 'y']\n",
      "veil-type : ['p']\n",
      "veil-color : ['w']\n",
      "ring-number : ['o' 't']\n",
      "ring-type : ['p' 'l' 'e']\n",
      "spore-print-color : ['k' 'n' 'h' 'w' 'r']\n",
      "population : ['s' 'v' 'y' 'c']\n",
      "habitat : ['u' 'g' 'd' 'p' 'l' 'm']\n"
     ]
    }
   ],
   "source": [
    "unique_values = {}\n",
    "\n",
    "for column in p_training_data.columns:\n",
    "    \n",
    "    unique_values[column] = p_training_data[column].unique()\n",
    "    \n",
    "    print(column,':',unique_values[column])"
   ]
  },
  {
   "cell_type": "markdown",
   "metadata": {},
   "source": [
    "$5$.e-training-set."
   ]
  },
  {
   "cell_type": "code",
   "execution_count": 22,
   "metadata": {},
   "outputs": [
    {
     "name": "stdout",
     "output_type": "stream",
     "text": [
      "class : ['e']\n",
      "cap-shape : ['x' 'b' 's' 'f' 'k']\n",
      "cap-surface : ['s' 'y' 'f']\n",
      "cap-color : ['y' 'w' 'g' 'n' 'e' 'b' 'u' 'c' 'p' 'r']\n",
      "bruises : ['t' 'f']\n",
      "odor : ['a' 'l' 'n']\n",
      "gill-attachment : ['f' 'a']\n",
      "gill-spacing : ['c' 'w']\n",
      "gill-size : ['b' 'n']\n",
      "gill-color : ['k' 'n' 'g' 'w' 'p' 'h' 'u' 'e' 'y' 'o']\n",
      "stalk-shape : ['e' 't']\n",
      "stalk-root : ['c' 'e' 'b' 'r' '?']\n",
      "stalk-surface-above-ring : ['s' 'f' 'k']\n",
      "stalk-surface-below-ring : ['s' 'f' 'y' 'k']\n",
      "stalk-color-above-ring : ['w' 'g' 'p' 'e' 'o']\n",
      "stalk-color-below-ring : ['w' 'p' 'g' 'n' 'e' 'o']\n",
      "veil-type : ['p']\n",
      "veil-color : ['w' 'n']\n",
      "ring-number : ['o' 't']\n",
      "ring-type : ['p' 'e' 'f']\n",
      "spore-print-color : ['n' 'k' 'u' 'w' 'h']\n",
      "population : ['n' 'a' 's' 'y' 'v' 'c']\n",
      "habitat : ['g' 'm' 'u' 'd' 'p' 'w' 'l']\n"
     ]
    }
   ],
   "source": [
    "unique_values = {}\n",
    "\n",
    "for column in e_training_data.columns:\n",
    "    \n",
    "    unique_values[column] = e_training_data[column].unique()\n",
    "    \n",
    "    print(column,':',unique_values[column])"
   ]
  },
  {
   "cell_type": "markdown",
   "metadata": {},
   "source": [
    " We are taking a single feture column from all set and compaire there random variabels to each other."
   ]
  },
  {
   "cell_type": "markdown",
   "metadata": {},
   "source": [
    "we are taking the cap-shape feature column in all the given set."
   ]
  },
  {
   "cell_type": "markdown",
   "metadata": {},
   "source": [
    "1 .training-set"
   ]
  },
  {
   "cell_type": "markdown",
   "metadata": {},
   "source": [
    "$cap-shape$ : ['x','b', 's' ,'f' ,'k' ,'c']"
   ]
  },
  {
   "cell_type": "markdown",
   "metadata": {},
   "source": [
    "2.  validation-set."
   ]
  },
  {
   "cell_type": "markdown",
   "metadata": {},
   "source": [
    "$cap-shape$ : ['f', 'x', 'k' ,'b']"
   ]
  },
  {
   "cell_type": "markdown",
   "metadata": {},
   "source": [
    "$3$ .testinig-set."
   ]
  },
  {
   "cell_type": "markdown",
   "metadata": {},
   "source": [
    "$cap-shape$ : ['b' 'f' 'x' 'k' 'c']"
   ]
  },
  {
   "cell_type": "markdown",
   "metadata": {},
   "source": [
    "$4$ .p-training_set"
   ]
  },
  {
   "cell_type": "markdown",
   "metadata": {},
   "source": [
    "$cap-shape$ : ['x' 'f' 'b' 'k' 'c']"
   ]
  },
  {
   "cell_type": "markdown",
   "metadata": {},
   "source": [
    "$5$ .e-training-set."
   ]
  },
  {
   "cell_type": "markdown",
   "metadata": {},
   "source": [
    "$cap-shape$ : ['x' 'b' 's' 'f' 'k']"
   ]
  },
  {
   "cell_type": "markdown",
   "metadata": {},
   "source": [
    "you can see that clearly in our training-set all random variables of there given features column is givne $['x','b','s','f','k','c']$."
   ]
  },
  {
   "cell_type": "markdown",
   "metadata": {},
   "source": [
    "but in ${'p-training-set'}$,  $'s'$ random variable in ${cap-shape}$ feature column that is not present."
   ]
  },
  {
   "cell_type": "markdown",
   "metadata": {},
   "source": [
    "but you know that in any random variables of given features column from Naive-Bayes Assumption is IID(independent and Identically Distributed)."
   ]
  },
  {
   "cell_type": "markdown",
   "metadata": {},
   "source": [
    "so\n",
    "\\begin{equation}\n",
    "P(B='s'|A='p') = 0\n",
    "\\end{equation}"
   ]
  },
  {
   "cell_type": "markdown",
   "metadata": {},
   "source": [
    "so it mean our.\n",
    "\\begin{equation}\n",
    "P(B='x'|A='p')\\cdot{P(B='b'|A='p')}\\cdot{P(B='f'|A='p')}\\cdot{P(B='k'|A='p')}\\cdot{P(B='c'|A='p')} = 0\n",
    "\\end{equation}"
   ]
  },
  {
   "cell_type": "markdown",
   "metadata": {},
   "source": [
    "that mean our Posterior Probability.\n",
    "\\begin{equation}\n",
    "P(A='p'|B=['x','b','f','k','c']) = 0\n",
    "\\end{equation}"
   ]
  },
  {
   "cell_type": "markdown",
   "metadata": {},
   "source": [
    "now our overall probability is $0$,that mean our Naive-Bayes-Classifier which are not predicting any probability corresponding random vairables.  "
   ]
  },
  {
   "cell_type": "markdown",
   "metadata": {},
   "source": [
    "let's come on the solution, how do deal with such kind of problems."
   ]
  },
  {
   "cell_type": "markdown",
   "metadata": {},
   "source": [
    "solution is Laplace smoothing. "
   ]
  },
  {
   "cell_type": "markdown",
   "metadata": {},
   "source": [
    "# 3. Smoothing Techinque. "
   ]
  },
  {
   "cell_type": "markdown",
   "metadata": {},
   "source": [
    "In this Smoothing Technique we discuss Laplace Smoothing."
   ]
  },
  {
   "cell_type": "markdown",
   "metadata": {},
   "source": [
    "in this Laplace Smoothing any random variables of given features columns corresponing to given class are not present, the we are adding $1$ there ${Frequency}$ = ${Frequency}$ $+$ $1$, and then we calculate the Likelihood Probability and we get the answer of Posterior Probability. "
   ]
  },
  {
   "cell_type": "markdown",
   "metadata": {},
   "source": [
    "let's see how to calculate this probability."
   ]
  },
  {
   "cell_type": "markdown",
   "metadata": {},
   "source": [
    "I know that in ${'p-training-set'}$ the given features column having $'s'$ random variable are missing."
   ]
  },
  {
   "cell_type": "markdown",
   "metadata": {},
   "source": [
    "\\begin{equation}\n",
    "    P(B='s'|A='p') = \\frac{freq(B='s'|A='p') + 1}{(freq(B='x'|A='p')+1) + (freq(B='b'|A='p')+1) + (freq(B='f'|A='p)+1) + (freq(B='k'|A='p)+1) + (freq(B='c'|A='p)+1) + (freq(B='s'|A='p')+1)}\n",
    "\\end{equation}"
   ]
  },
  {
   "cell_type": "markdown",
   "metadata": {},
   "source": [
    "and we know that ${Frequency}$ of $'s'$ in ${'cap-shape'}$ of ${'p-training-set'}$ is $0$"
   ]
  },
  {
   "cell_type": "markdown",
   "metadata": {},
   "source": [
    "\\begin{equation}\n",
    "P(B='s'|A='p') = \\frac{0 + 1}{freq(B='x'|A='p')+freq(B='b'|A='p')+freq(B='f'|A='p)+freq(B='k'|A='p)+freq(B='c'|A='p)+freq(B='s'|A='p')+6}\n",
    "\\end{equation}"
   ]
  },
  {
   "cell_type": "markdown",
   "metadata": {},
   "source": [
    "\\begin{equation}\n",
    "P(B='s'|A='p') = \\frac{1}{freq(B='x'|A='p')+freq(B='b'|A='p')+freq(B='f'|A='p)+freq(B='k'|A='p)+freq(B='c'|A='p)+freq(B='s'|A='p')+6}\n",
    "\\end{equation}"
   ]
  },
  {
   "cell_type": "markdown",
   "metadata": {},
   "source": [
    "\\begin{equation}\n",
    "freq(B='x'|A='p')+freq(B='b'|A='p')+freq(B='f'|A='p')+freq(B='k'|A='p')+freq(B='s'|A='p') = lenght-of-p-training-set\n",
    "\\end{equation}"
   ]
  },
  {
   "cell_type": "markdown",
   "metadata": {},
   "source": [
    "\\begin{equation}\n",
    " 6 = no-of-random-varibles-of-feature-column-of-'cap-shape'\n",
    "\\end{equation}"
   ]
  },
  {
   "cell_type": "code",
   "execution_count": null,
   "metadata": {},
   "outputs": [],
   "source": []
  }
 ],
 "metadata": {
  "kernelspec": {
   "display_name": "Python 3",
   "language": "python",
   "name": "python3"
  },
  "language_info": {
   "codemirror_mode": {
    "name": "ipython",
    "version": 3
   },
   "file_extension": ".py",
   "mimetype": "text/x-python",
   "name": "python",
   "nbconvert_exporter": "python",
   "pygments_lexer": "ipython3",
   "version": "3.7.3"
  }
 },
 "nbformat": 4,
 "nbformat_minor": 2
}
